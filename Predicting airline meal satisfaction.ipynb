{
 "cells": [
  {
   "cell_type": "code",
   "execution_count": 1,
   "metadata": {},
   "outputs": [],
   "source": [
    "from IPython.display import Image\n",
    "from IPython.core.display import HTML "
   ]
  },
  {
   "cell_type": "markdown",
   "metadata": {},
   "source": [
    "*Welcome!*\n",
    "\n",
    "This notebook contains the analysis and development of a predictive model of [airlinemeals.net](https://www.airlinemeals.net) meal ratings. This is a public website (see image below) on which passengers can upload photos, descriptions and comments but most importantly the rating of a meal they consumed on board. In this notebook a predictive model of this rating is created.\n",
    "\n",
    "The below table of contents briefly outlines this project:\n",
    "* [1:](#chapter1) Importing the dataset and cleaning the data\n",
    "    * [1.1:](#dataprep) Preparing the data for further analysis \n",
    "* [2:](#chapter3-1) Creating the meal contents variables\n",
    "* [3:](#chapter4) Developing a predictive model\n",
    "    * [3.1:](#4.1) Decision Tree Regressor\n",
    "    * [3.2:](#4.2) Other ML models\n",
    "* [Conclusion](#conclusion)\n",
    "\n"
   ]
  },
  {
   "cell_type": "code",
   "execution_count": 2,
   "metadata": {},
   "outputs": [
    {
     "data": {
      "text/html": [
       "<img src=\"https://www.airlinemeals.net/images/new-howto/00-airlinemeals-new-full-site2.jpg\" width=\"500\" height=\"500\"/>"
      ],
      "text/plain": [
       "<IPython.core.display.Image object>"
      ]
     },
     "execution_count": 2,
     "metadata": {},
     "output_type": "execute_result"
    }
   ],
   "source": [
    "Image(url= \"https://www.airlinemeals.net/images/new-howto/00-airlinemeals-new-full-site2.jpg\", width=500, height=500)"
   ]
  },
  {
   "cell_type": "code",
   "execution_count": 3,
   "metadata": {},
   "outputs": [
    {
     "name": "stderr",
     "output_type": "stream",
     "text": [
      "/Users/elskedenbode/opt/anaconda3/lib/python3.7/site-packages/statsmodels/tools/_testing.py:19: FutureWarning: pandas.util.testing is deprecated. Use the functions in the public API at pandas.testing instead.\n",
      "  import pandas.util.testing as tm\n",
      "[nltk_data] Downloading package stopwords to\n",
      "[nltk_data]     /Users/elskedenbode/nltk_data...\n",
      "[nltk_data]   Package stopwords is already up-to-date!\n",
      "[nltk_data] Downloading package wordnet to\n",
      "[nltk_data]     /Users/elskedenbode/nltk_data...\n",
      "[nltk_data]   Package wordnet is already up-to-date!\n"
     ]
    },
    {
     "data": {
      "text/plain": [
       "True"
      ]
     },
     "execution_count": 3,
     "metadata": {},
     "output_type": "execute_result"
    }
   ],
   "source": [
    "import pandas as pd\n",
    "import re\n",
    "import nltk\n",
    "from nltk import bigrams\n",
    "from nltk import ngrams\n",
    "import unicodedata\n",
    "import matplotlib.pyplot as plt\n",
    "from scipy import stats\n",
    "import statsmodels.api as sm\n",
    "nltk.download('stopwords')\n",
    "nltk.download('wordnet')"
   ]
  },
  {
   "cell_type": "markdown",
   "metadata": {},
   "source": [
    "# 1: <a class=\"anchor\" id=\"chapter1\"></a>Importing the dataset and cleaning the data"
   ]
  },
  {
   "cell_type": "markdown",
   "metadata": {},
   "source": [
    "Download the dataset [here](https://drive.google.com/file/d/13gNELaGfO8H52BcH3PXvIxIrkQhFYJFh/view?usp=sharing) and import the dataset."
   ]
  },
  {
   "cell_type": "code",
   "execution_count": 4,
   "metadata": {},
   "outputs": [],
   "source": [
    "df = pd.read_csv('airline_meals.csv')\n",
    "df_data_str = df.astype(str)"
   ]
  },
  {
   "cell_type": "markdown",
   "metadata": {},
   "source": [
    "The 'Flight' column contains more information soures. This column will therefore be splitted."
   ]
  },
  {
   "cell_type": "code",
   "execution_count": 5,
   "metadata": {},
   "outputs": [],
   "source": [
    "#splitting the information column into five columns\n",
    "df_data_str[['Date_added', 'Flight_no', 'Flight_duration', 'AC_type', 'Other_comments']] = pd.DataFrame(df_data_str['Info'].str.split('//',4).tolist(),\n",
    "                                 columns = ['Date_added', 'Flight_no', 'Flight_duration', 'AC_type', 'Other_comments'])\n",
    "#Splitting route and date into two seperate columns\n",
    "df_data_str[['Route','Date_flight']] = pd.DataFrame(df_data_str['Flight'].str.split(',',1).tolist(),\n",
    "                                 columns = ['Route','Date_flight'])"
   ]
  },
  {
   "cell_type": "markdown",
   "metadata": {},
   "source": [
    "Prefixes to the information, such as annoucing the aircraft type with 'Aircraft:' are removed"
   ]
  },
  {
   "cell_type": "code",
   "execution_count": 6,
   "metadata": {},
   "outputs": [],
   "source": [
    "#removing unneccessary information from columns\n",
    "df_data_str['AC_type'].replace('Aircraft:', '', regex=True, inplace=True)\n",
    "df_data_str['Flight_duration'].replace('Flight:', '', regex=True, inplace=True)\n",
    "df_data_str['Date_added'].replace('Date added:', '', regex=True, inplace=True)\n",
    "\n",
    "#cleaning target variable\n",
    "df_data_str['Rating'].replace('/10', '', regex=True, inplace=True)\n",
    "df_data_str['Airline'].replace(\"[\\(\\[].*?[\\)\\]]\", \"\", regex=True, inplace=True)"
   ]
  },
  {
   "cell_type": "markdown",
   "metadata": {},
   "source": [
    "## 1.1 Data preparation: Adjusting column types for analysis <a class=\"anchor\" id=\"dataprep\"></a>\n",
    "In this section the following steps are taken\n",
    "1. 'Rating', the target variable, is converted to string and the 'Date_flight' converted to datetime\n",
    "2. 'Ticket_price' is extracted.\n",
    "3. 'Description' and 'Info' columns are combined for further analysis as similar information is captured in both columns.\n",
    "3. Flight duration is extracted and converted to minutes\n",
    "4. Aircraft types are converted into dummy variables"
   ]
  },
  {
   "cell_type": "code",
   "execution_count": 7,
   "metadata": {},
   "outputs": [],
   "source": [
    "#Step 1: adjusting 'Rating' to numeric and 'Date_flight' to datetime\n",
    "df_data_str['Rating'] = pd.to_numeric(df_data_str['Rating'])\n",
    "df_data_str['Date_flight'] = pd.to_datetime(df_data_str['Date_flight'], errors='coerce')"
   ]
  },
  {
   "cell_type": "code",
   "execution_count": 8,
   "metadata": {
    "scrolled": true
   },
   "outputs": [],
   "source": [
    "#Step 2: Get ticket\n",
    "df_data_str['Ticket_pricing_full'] = df_data_str['Info'].str.extract('(.Ticket price\\: [0-9].*.)')\n",
    "df_data_str['Ticket_pricing'] = df_data_str['Ticket_pricing_full'].str.extract('([0-9]+)')\n",
    "df_data_str['Ticket_pricing'] = pd.to_numeric(df_data_str['Ticket_pricing'])\n",
    "\n",
    "#Step 3: All string columns to one \n",
    "df_data_str = df_data_str.assign(Product=lambda x: (x['Description'] + x['Meal'] + x['Info'] + x['Drink'])) \n",
    "df_data_str = df_data_str.assign(Productmeals=lambda x: (x['Description'] + x['Meal'] + x['Info'])) \n",
    "\n",
    "#Step 4: Flight duration to numeric\n",
    "df_data_str['Flight_duration'] = df_data_str['Info'].str.extract('([0-9]+\\:[0-9]+)')"
   ]
  },
  {
   "cell_type": "code",
   "execution_count": 9,
   "metadata": {},
   "outputs": [],
   "source": [
    "#Step 4: Converting the length of flight to number of minutes\n",
    "def get_min(time_str):\n",
    "    \"\"\"Get minutes from time.\"\"\"\n",
    "    h, m = time_str.split(':')\n",
    "    return int(h) * 60 + int(m)\n",
    "\n",
    "#first filling NA with 0:0 so the time can be appropriately converted to 0 by the above function\n",
    "df_data_str['Length_of_flight'] = df_data_str['Flight_duration'].fillna('0:0')\n",
    "\n",
    "#applying the function to get the time in minutes in ['Length_of_flight_mins']\n",
    "df_data_str['Length_of_flight_mins'] = df_data_str['Length_of_flight'].apply(lambda x: get_min(str(x)))"
   ]
  },
  {
   "cell_type": "code",
   "execution_count": 10,
   "metadata": {},
   "outputs": [
    {
     "name": "stdout",
     "output_type": "stream",
     "text": [
      "There are 2106 different AC_types in the dataset\n"
     ]
    }
   ],
   "source": [
    "#Step 5: converting AC_type to dummy variable\n",
    "\n",
    "#Printing the current number of AC_types in the dataset\n",
    "print(\"There are\", (len(df_data_str['AC_type'].unique())), \"different AC_types in the dataset\")"
   ]
  },
  {
   "cell_type": "markdown",
   "metadata": {},
   "source": [
    "It is therefore important to clean up this variable and create a dummy variable for the most common aircraft types."
   ]
  },
  {
   "cell_type": "code",
   "execution_count": 11,
   "metadata": {},
   "outputs": [
    {
     "name": "stdout",
     "output_type": "stream",
     "text": [
      "There now are 3843 flights on Boeing aircraft\n",
      "There now are 3223 flights on Airbus aircraft\n"
     ]
    }
   ],
   "source": [
    "#Step 5: Creating matches for ac types. Fokker, embraer, bombardier are seldomly used so can be classified as \"other\"\n",
    "matches_boeing = [\"Boeing 777-300ER\", \"777\", \"767\", \"737\", \"757\", \"747\", \"787\", \"789\"]\n",
    "matches_airbus = [\"Airbus\", \"A321\", \"321\", \"320\", \"380\", \"350\", \"320\", \"319\", \"330\"]\n",
    "matches_other = ['Fokker', 'Emb', 'Embraer','Bombardier']\n",
    "\n",
    "#making dummy variables\n",
    "df_data_str['Aircraft_Boeing'] = df_data_str['Info'].apply([lambda x: 1 if any(i in str(x) for i in matches_boeing) else 0])\n",
    "df_data_str['Aircraft_Airbus'] = df_data_str['Info'].apply([lambda x: 1 if any(i in str(x) for i in matches_airbus) else 0])\n",
    "df_data_str['Aircraft_Other'] = df_data_str['Info'].apply([lambda x: 1 if any(i in str(x) for i in matches_other) else 0])\n",
    "\n",
    "print(\"There now are\",df_data_str['Aircraft_Boeing'].value_counts()[1], \"flights on Boeing aircraft\")\n",
    "print(\"There now are\",df_data_str['Aircraft_Airbus'].value_counts()[1], \"flights on Airbus aircraft\")"
   ]
  },
  {
   "cell_type": "markdown",
   "metadata": {},
   "source": [
    "#  2: Creating the 'meal_***' contents variables\n",
    "<a class=\"anchor\" id=\"chapter3-1\"></a>\n",
    "In order to get more information on the contents of the meals that were rated on airlinemeals.net, a textual analysis using NLTK libraries is performed. The following steps are taken:\n",
    "1. Common stopwords used in both the meal and description string variables that do not relate to the actual contents of the meal are collected.\n",
    "2. The text in both 'Meal' and 'Description' are appended in one large list for further analysis.\n",
    "3. Ngram and bigram analysis are performed to identify the most common classes of meals served.\n",
    "4. Dummy variables are created, 1 means the meal has contents in that category, and 0 means it does not.\n",
    "\n",
    "After this step all the variables have been created and helper columns can be removed."
   ]
  },
  {
   "cell_type": "code",
   "execution_count": 12,
   "metadata": {},
   "outputs": [],
   "source": [
    "#Step 1: additional stopwords are created to later on append to the NLTK stopwords library. These stopwords are based on words that appeared on the n-gram analysis that do not indicate meal contents\n",
    "additional_stopwords = ['special', 'breakfast', 'card', 'aircraft', '737800', 'ticket', 'price', '777300er', 'airbus', 'nan', ' boeing', '777', 'date', 'added', 'xa0', 'nice', 'choose', 'lunch', '2', 'meal', 'served', 'menu', 'served', 'flight', 'dinner', 'description', 'class', 'economy', ' business', 'service', 'equipment']"
   ]
  },
  {
   "cell_type": "code",
   "execution_count": 13,
   "metadata": {},
   "outputs": [],
   "source": [
    "#Step 2.1 Appending the text from the function\n",
    "text = []\n",
    "nott = (' (no description)')\n",
    "\n",
    "#Function that creates one large string of text for further analysis\n",
    "def get_text(listy):\n",
    "    for x in listy:\n",
    "        words = x.split(',')\n",
    "        for i in words:\n",
    "            if i != nott:\n",
    "                text.append(i.split('\\t')[0])\n",
    "            \n",
    "#Call the function            \n",
    "get_text(df_data_str['Productmeals'])"
   ]
  },
  {
   "cell_type": "code",
   "execution_count": 14,
   "metadata": {},
   "outputs": [],
   "source": [
    "#Step 2.2 Lemmatizing the words, ignoring stopwords\n",
    "\n",
    "#Defining the function\n",
    "def get_words(text):\n",
    "\n",
    "    wnl = nltk.stem.WordNetLemmatizer()\n",
    "    stop_words = nltk.corpus.stopwords.words('english') + additional_stopwords \n",
    "    text = (unicodedata.normalize('NFKD', text).encode('ascii', 'ignore').decode('utf-8', 'ignore').lower())\n",
    "    words = re.sub('[^\\w\\s]', '', text).split()\n",
    "    return [wnl.lemmatize(word) for word in words if word not in stop_words]\n",
    "\n",
    "#Calling the function\n",
    "words = get_words(''.join(str(text)))"
   ]
  },
  {
   "cell_type": "code",
   "execution_count": 15,
   "metadata": {
    "scrolled": true
   },
   "outputs": [
    {
     "data": {
      "text/plain": [
       "Text(0.5, 0, '# of Occurences')"
      ]
     },
     "execution_count": 15,
     "metadata": {},
     "output_type": "execute_result"
    },
    {
     "data": {
      "image/png": "[encoded data removed]",
      "text/plain": [
       "<Figure size 2160x2736 with 2 Axes>"
      ]
     },
     "metadata": {
      "needs_background": "light"
     },
     "output_type": "display_data"
    }
   ],
   "source": [
    "#Step 3.1 Creating ngram analysis of single words and plotting the first 20 most common meal contents\n",
    "ax =  plt.subplot(1, 2, 1)\n",
    "ngrams_series = (pd.Series(nltk.ngrams(words, 1)).value_counts())[0:20]\n",
    "ngrams_series.sort_values().plot.barh(color='grey', width=.9, figsize=(12, 18), ax=ax)\n",
    "plt.title('20 Most Frequently Occuring Ngrams')\n",
    "plt.ylabel('Ngram')\n",
    "plt.xlabel('# of Occurences')\n",
    "\n",
    "ax = plt.subplot(1, 2, 2)\n",
    "#Step 3.1 Creating bigram-analysis and plotting the first 20 most common meal contents\n",
    "bigrams_series = (pd.Series(nltk.ngrams(words, 2)).value_counts())[0:20]\n",
    "bigrams_series.sort_values().plot.barh(color='grey', width=.9, figsize=(30, 38), ax=ax)\n",
    "plt.title('20 Most Frequently Occuring Bigrams')\n",
    "plt.ylabel('Bigram')\n",
    "plt.xlabel('# of Occurences')"
   ]
  },
  {
   "cell_type": "code",
   "execution_count": 16,
   "metadata": {},
   "outputs": [],
   "source": [
    "#making classes of meals and ingredients based upon the ngram and bigram analysis\n",
    "matches_poultry = [\"chicken\", \"turkey\", \"duck\", \"chiken\", \"pheasant\", \"geese\", \"goose\"]\n",
    "matches_meat = [\"beef\", \"meat\", \"tenderloin\", \"meatball\", \"steak\", \"veal\", \"lamb\"]\n",
    "matches_fish = [\"fish\", \"seafood\", \"shrimp\", \"cod\", \"salmon\"]\n",
    "matches_vegetarian = [\"vegetarian\", \"tofu\", \"veggie\", \"veg\"]\n",
    "matches_asian = [\"noodles\", \"dimsum\", \"dumpling\", \"dumplings\"]\n",
    "matches_western = [\"potatoe\", \"schnitzel\", \"croissant\"]\n",
    "matches_italian = [\"tomato\", \"spaghetti\", \"penne\", \"lasagna\", \"pizza\", \"pasta\"]\n",
    "matches_dairy = [\"yoghurt\", \"milk\", \"cream\", \"custard\", \"icecream\", \"cheese\", \"butter\"]\n",
    "matches_sweets = [\"brownie\", \"chocolate\", \"cake\", \"sweet\", \"sweetcake\"]\n",
    "matches_alcohol = [\"wine\", \"beer\", \"gin\", \"whiskey\", \"bloody\", \"vodka\", \"alcoholic\", \"champagne\", \"redwine\", \"whitewine\", \"g and t\"]\n",
    "\n",
    "#making dummy variables\n",
    "df_data_str['Meal_poultry'] = df_data_str['Product'].apply([lambda x: 1 if any(i in str(x) for i in matches_poultry) else 0])\n",
    "df_data_str['Meal_meat'] = df_data_str['Product'].apply([lambda x: 1 if any(i in str(x) for i in matches_meat) else 0])\n",
    "df_data_str['Meal_fish'] = df_data_str['Product'].apply([lambda x: 1 if any(i in str(x) for i in matches_fish) else 0])\n",
    "df_data_str['Meal_vegetarian'] = df_data_str['Product'].apply([lambda x: 1 if any(i in str(x) for i in matches_vegetarian) else 0])\n",
    "df_data_str['Meal_italian'] = df_data_str['Product'].apply([lambda x: 1 if any(i in str(x) for i in matches_italian) else 0])\n",
    "df_data_str['Meal_asian'] = df_data_str['Product'].apply([lambda x: 1 if any(i in str(x) for i in matches_asian) else 0])\n",
    "df_data_str['Meal_western'] = df_data_str['Product'].apply([lambda x: 1 if any(i in str(x) for i in matches_western) else 0])\n",
    "df_data_str['Meal_sweets'] = df_data_str['Product'].apply([lambda x: 1 if any(i in str(x) for i in matches_sweets) else 0])\n",
    "df_data_str['Meal_alcohol'] = df_data_str['Product'].apply([lambda x: 1 if any(i in str(x) for i in matches_alcohol) else 0])\n",
    "df_data_str['Meal_dairy'] = df_data_str['Product'].apply([lambda x: 1 if any(i in str(x) for i in matches_dairy) else 0])"
   ]
  },
  {
   "cell_type": "code",
   "execution_count": 17,
   "metadata": {},
   "outputs": [
    {
     "name": "stdout",
     "output_type": "stream",
     "text": [
      "There were 2126 meals served with poultry\n",
      "There were 1712 vegetarian meals served\n",
      "There were 1430 meals served with meat\n",
      "There were 1350 meals served with fish\n",
      "There were 1876 italian meals served\n",
      "There were 350 asian meals served\n",
      "There were 3902 meals served containing dairy\n",
      "There were 1159 western meals served\n",
      "There were 2910 meals served with sweets\n",
      "There were 2430 meals served with alcoholic beverages\n"
     ]
    }
   ],
   "source": [
    "#printing the occurences of the meals\n",
    "print(\"There were\", df_data_str['Meal_poultry'].value_counts()[1], \"meals served with poultry\")\n",
    "print(\"There were\", df_data_str['Meal_vegetarian'].value_counts()[1], \"vegetarian meals served\")\n",
    "print(\"There were\", df_data_str['Meal_meat'].value_counts()[1], \"meals served with meat\")\n",
    "print(\"There were\", df_data_str['Meal_fish'].value_counts()[1], \"meals served with fish\")\n",
    "print(\"There were\", df_data_str['Meal_italian'].value_counts()[1], \"italian meals served\")\n",
    "print(\"There were\", df_data_str['Meal_asian'].value_counts()[1], \"asian meals served\")\n",
    "print(\"There were\", df_data_str['Meal_dairy'].value_counts()[1], \"meals served containing dairy\")\n",
    "print(\"There were\", df_data_str['Meal_western'].value_counts()[1], \"western meals served\")\n",
    "print(\"There were\", df_data_str['Meal_sweets'].value_counts()[1], \"meals served with sweets\")\n",
    "print(\"There were\", df_data_str['Meal_alcohol'].value_counts()[1], \"meals served with alcoholic beverages\")"
   ]
  },
  {
   "cell_type": "markdown",
   "metadata": {},
   "source": [
    "Finally, we drop some columns that are no longer necessary"
   ]
  },
  {
   "cell_type": "code",
   "execution_count": 18,
   "metadata": {},
   "outputs": [],
   "source": [
    "df_data_str.drop(df_data_str.index[df_data_str['Product'].str.contains(r'description') == True], inplace=True)\n",
    "\n",
    "#Dropping no longer neccessary columns\n",
    "df_data_str.drop(columns=['Ticket_pricing_full', 'Airline', 'Route'], inplace=True)\n",
    "df_data_str.drop(columns=['Flight_no', 'Flight', 'Meal', 'Drink', 'AC_type', 'Other_comments'], inplace=True)\n",
    "df_data_str.drop(columns=['Info', 'Description', 'Class', 'Flight_duration', 'Productmeals'], inplace=True)\n",
    "df_data_str.drop(columns=['Date_added', 'Date_flight', 'Product', 'Length_of_flight'], inplace=True)\n",
    "df_data_str = df_data_str.loc[:, ~df_data_str.columns.str.contains('^Unnamed')]\n",
    "\n",
    "#Drop columns that do not have a ticket price\n",
    "#df_data_str.dropna(subset=['Ticket_pricing'], inplace=True)"
   ]
  },
  {
   "cell_type": "code",
   "execution_count": 19,
   "metadata": {},
   "outputs": [],
   "source": [
    "#Ensure all variabels are numeric\n",
    "cols = df_data_str.columns[-13:]\n",
    "df_data_str[cols] = df_data_str[cols].apply(pd.to_numeric, errors='coerce', axis=1)"
   ]
  },
  {
   "cell_type": "markdown",
   "metadata": {},
   "source": [
    "# 3: Developing a predicting model <a class=\"anchor\" id=\"chapter4\"></a>"
   ]
  },
  {
   "cell_type": "markdown",
   "metadata": {},
   "source": [
    "In this chapter a predictive model is built. As we want to predict the 'Rating', which is distributed as follows: "
   ]
  },
  {
   "cell_type": "code",
   "execution_count": 20,
   "metadata": {},
   "outputs": [
    {
     "data": {
      "text/plain": [
       "Text(0.5, 1.0, 'Distribution of Ratings')"
      ]
     },
     "execution_count": 20,
     "metadata": {},
     "output_type": "execute_result"
    },
    {
     "data": {
      "image/png": "[encoded data removed]",
      "text/plain": [
       "<Figure size 432x288 with 1 Axes>"
      ]
     },
     "metadata": {
      "needs_background": "light"
     },
     "output_type": "display_data"
    }
   ],
   "source": [
    "#Plotting a histogram of ratings\n",
    "plt.hist(df_data_str['Rating'], bins = 10, color=\"lightskyblue\")\n",
    "plt.xlabel('Rating')\n",
    "plt.ylabel('Count')\n",
    "plt.title('Distribution of Ratings')"
   ]
  },
  {
   "cell_type": "markdown",
   "metadata": {},
   "source": [
    "Following, the correlations with this variable are calculated."
   ]
  },
  {
   "cell_type": "code",
   "execution_count": 21,
   "metadata": {},
   "outputs": [
    {
     "data": {
      "text/plain": [
       "Rating                   1.000000\n",
       "Meal_alcohol             0.063922\n",
       "Aircraft_Airbus          0.063404\n",
       "Meal_fish                0.062127\n",
       "Meal_dairy               0.051071\n",
       "Meal_western             0.048728\n",
       "Meal_poultry             0.048165\n",
       "Meal_meat                0.035808\n",
       "Meal_italian             0.032235\n",
       "Meal_sweets              0.032013\n",
       "Length_of_flight_mins    0.026922\n",
       "Meal_vegetarian          0.012083\n",
       "Meal_asian               0.007326\n",
       "Aircraft_Boeing          0.004679\n",
       "Aircraft_Other          -0.007006\n",
       "Ticket_pricing          -0.020037\n",
       "Name: Rating, dtype: float64"
      ]
     },
     "execution_count": 21,
     "metadata": {},
     "output_type": "execute_result"
    }
   ],
   "source": [
    "#print the correlations between the variables and print\n",
    "(df_data_str.corr()['Rating'].sort_values(ascending=False).head(20))"
   ]
  },
  {
   "cell_type": "markdown",
   "metadata": {},
   "source": [
    "The correlations are rather weak. Numeric values such as the length of flight and the ticket price could contain outliers that influence the correlation. To identify this a boxplot and scatterplot (in relation to 'Rating') were visualized. These graphs and the rationale to remove outliers for these two variables is indicated below."
   ]
  },
  {
   "cell_type": "code",
   "execution_count": 50,
   "metadata": {},
   "outputs": [
    {
     "data": {
      "image/png": "[encoded data removed]",
      "text/plain": [
       "<Figure size 432x288 with 2 Axes>"
      ]
     },
     "metadata": {
      "needs_background": "light"
     },
     "output_type": "display_data"
    }
   ],
   "source": [
    "#Removing outliers. Outliers in ticket prices can be removed as flights can not take longer than 18 hours, the longest flight in the world.\n",
    "y = df_data_str['Length_of_flight_mins']\n",
    "removed_outliers = y.between(y.quantile(.05), y.quantile(.95))\n",
    "index_names = df_data_str[~removed_outliers].index\n",
    "df_data_str.drop(index_names, inplace=True)\n",
    "\n",
    "#Plotting a boxplot\n",
    "ax =  plt.subplot(1, 2, 1)\n",
    "plt.boxplot(df_data_str['Length_of_flight_mins'])\n",
    "\n",
    "#Plotting a scatterplot\n",
    "ax = plt.subplot(1, 2, 2)\n",
    "plt.scatter(df_data_str['Length_of_flight_mins'], df_data_str['Rating'], color='lightskyblue')\n",
    "plt.xlabel('Length of flight in minutes')\n",
    "plt.ylabel('Rating of the airline meal')\n",
    "plt.show()"
   ]
  },
  {
   "cell_type": "code",
   "execution_count": 48,
   "metadata": {},
   "outputs": [
    {
     "data": {
      "text/plain": [
       "Text(0, 0.5, 'Rating of the airline meal')"
      ]
     },
     "execution_count": 48,
     "metadata": {},
     "output_type": "execute_result"
    },
    {
     "data": {
      "image/png": "[encoded data removed]",
      "text/plain": [
       "<Figure size 432x288 with 2 Axes>"
      ]
     },
     "metadata": {
      "needs_background": "light"
     },
     "output_type": "display_data"
    }
   ],
   "source": [
    "#Removing outliers. Outliers in ticket prices can be removed as these may be currency values that do not convert well or prices paid for business class tickets.\n",
    "y = df_data_str['Ticket_pricing']\n",
    "removed_outliers = y.between(y.quantile(.05), y.quantile(.95))\n",
    "index_names = df_data_str[~removed_outliers].index\n",
    "df_data_str.drop(index_names, inplace=True)\n",
    "\n",
    "#Plotting a boxplot\n",
    "ax =  plt.subplot(1, 2, 1)\n",
    "plt.boxplot(df_data_str['Ticket_pricing'])\n",
    "\n",
    "#Plotting a scatterplot\n",
    "ax = plt.subplot(1, 2, 2)\n",
    "plt.scatter(df_data_str['Ticket_pricing'], df_data_str['Rating'], color=\"lightskyblue\")\n",
    "ax.set_xlabel('Ticket price paid')\n",
    "ax.set_ylabel('Rating of the airline meal')\n",
    "#plt.show()"
   ]
  },
  {
   "cell_type": "markdown",
   "metadata": {},
   "source": [
    "We will verify if the correlations have improved:"
   ]
  },
  {
   "cell_type": "code",
   "execution_count": 51,
   "metadata": {},
   "outputs": [
    {
     "data": {
      "text/plain": [
       "Rating                   1.000000\n",
       "Meal_dairy               0.128286\n",
       "Meal_sweets              0.113771\n",
       "Meal_italian             0.083704\n",
       "Length_of_flight_mins    0.052021\n",
       "Meal_vegetarian          0.047266\n",
       "Meal_western             0.045819\n",
       "Meal_poultry             0.040149\n",
       "Meal_meat                0.038388\n",
       "Meal_fish                0.037791\n",
       "Aircraft_Boeing          0.021109\n",
       "Ticket_pricing           0.008851\n",
       "Aircraft_Airbus         -0.001835\n",
       "Meal_alcohol            -0.002652\n",
       "Aircraft_Other          -0.023172\n",
       "Meal_asian              -0.037830\n",
       "Name: Rating, dtype: float64"
      ]
     },
     "execution_count": 51,
     "metadata": {},
     "output_type": "execute_result"
    }
   ],
   "source": [
    "#print the correlations between the variables and print\n",
    "(df_data_str.corr()['Rating'].sort_values(ascending=False).head(20))"
   ]
  },
  {
   "cell_type": "markdown",
   "metadata": {},
   "source": [
    "They did not significantly improve. Nevertheless the analysis is continued. Improvement to the dataset might be added later. We continue with the following variables:"
   ]
  },
  {
   "cell_type": "code",
   "execution_count": 25,
   "metadata": {},
   "outputs": [
    {
     "data": {
      "text/html": [
       "<div>\n",
       "<style scoped>\n",
       "    .dataframe tbody tr th:only-of-type {\n",
       "        vertical-align: middle;\n",
       "    }\n",
       "\n",
       "    .dataframe tbody tr th {\n",
       "        vertical-align: top;\n",
       "    }\n",
       "\n",
       "    .dataframe thead th {\n",
       "        text-align: right;\n",
       "    }\n",
       "</style>\n",
       "<table border=\"1\" class=\"dataframe\">\n",
       "  <thead>\n",
       "    <tr style=\"text-align: right;\">\n",
       "      <th></th>\n",
       "      <th>Rating</th>\n",
       "      <th>Ticket_pricing</th>\n",
       "      <th>Length_of_flight_mins</th>\n",
       "      <th>Aircraft_Boeing</th>\n",
       "      <th>Aircraft_Airbus</th>\n",
       "      <th>Aircraft_Other</th>\n",
       "      <th>Meal_poultry</th>\n",
       "      <th>Meal_meat</th>\n",
       "      <th>Meal_fish</th>\n",
       "      <th>Meal_vegetarian</th>\n",
       "      <th>Meal_italian</th>\n",
       "      <th>Meal_asian</th>\n",
       "      <th>Meal_western</th>\n",
       "      <th>Meal_sweets</th>\n",
       "      <th>Meal_alcohol</th>\n",
       "      <th>Meal_dairy</th>\n",
       "    </tr>\n",
       "  </thead>\n",
       "  <tbody>\n",
       "    <tr>\n",
       "      <th>9</th>\n",
       "      <td>8</td>\n",
       "      <td>100.0</td>\n",
       "      <td>140</td>\n",
       "      <td>0</td>\n",
       "      <td>1</td>\n",
       "      <td>0</td>\n",
       "      <td>0</td>\n",
       "      <td>0</td>\n",
       "      <td>0</td>\n",
       "      <td>1</td>\n",
       "      <td>0</td>\n",
       "      <td>0</td>\n",
       "      <td>0</td>\n",
       "      <td>1</td>\n",
       "      <td>1</td>\n",
       "      <td>0</td>\n",
       "    </tr>\n",
       "    <tr>\n",
       "      <th>30</th>\n",
       "      <td>6</td>\n",
       "      <td>8850.0</td>\n",
       "      <td>270</td>\n",
       "      <td>1</td>\n",
       "      <td>0</td>\n",
       "      <td>0</td>\n",
       "      <td>1</td>\n",
       "      <td>1</td>\n",
       "      <td>0</td>\n",
       "      <td>0</td>\n",
       "      <td>1</td>\n",
       "      <td>1</td>\n",
       "      <td>1</td>\n",
       "      <td>0</td>\n",
       "      <td>0</td>\n",
       "      <td>0</td>\n",
       "    </tr>\n",
       "    <tr>\n",
       "      <th>97</th>\n",
       "      <td>10</td>\n",
       "      <td>395.0</td>\n",
       "      <td>400</td>\n",
       "      <td>1</td>\n",
       "      <td>0</td>\n",
       "      <td>0</td>\n",
       "      <td>0</td>\n",
       "      <td>0</td>\n",
       "      <td>0</td>\n",
       "      <td>1</td>\n",
       "      <td>0</td>\n",
       "      <td>0</td>\n",
       "      <td>1</td>\n",
       "      <td>0</td>\n",
       "      <td>0</td>\n",
       "      <td>0</td>\n",
       "    </tr>\n",
       "    <tr>\n",
       "      <th>98</th>\n",
       "      <td>10</td>\n",
       "      <td>195.0</td>\n",
       "      <td>90</td>\n",
       "      <td>0</td>\n",
       "      <td>1</td>\n",
       "      <td>0</td>\n",
       "      <td>0</td>\n",
       "      <td>0</td>\n",
       "      <td>0</td>\n",
       "      <td>0</td>\n",
       "      <td>0</td>\n",
       "      <td>0</td>\n",
       "      <td>0</td>\n",
       "      <td>0</td>\n",
       "      <td>0</td>\n",
       "      <td>0</td>\n",
       "    </tr>\n",
       "    <tr>\n",
       "      <th>105</th>\n",
       "      <td>4</td>\n",
       "      <td>55.0</td>\n",
       "      <td>60</td>\n",
       "      <td>0</td>\n",
       "      <td>0</td>\n",
       "      <td>0</td>\n",
       "      <td>0</td>\n",
       "      <td>0</td>\n",
       "      <td>0</td>\n",
       "      <td>0</td>\n",
       "      <td>0</td>\n",
       "      <td>0</td>\n",
       "      <td>0</td>\n",
       "      <td>0</td>\n",
       "      <td>0</td>\n",
       "      <td>0</td>\n",
       "    </tr>\n",
       "    <tr>\n",
       "      <th>...</th>\n",
       "      <td>...</td>\n",
       "      <td>...</td>\n",
       "      <td>...</td>\n",
       "      <td>...</td>\n",
       "      <td>...</td>\n",
       "      <td>...</td>\n",
       "      <td>...</td>\n",
       "      <td>...</td>\n",
       "      <td>...</td>\n",
       "      <td>...</td>\n",
       "      <td>...</td>\n",
       "      <td>...</td>\n",
       "      <td>...</td>\n",
       "      <td>...</td>\n",
       "      <td>...</td>\n",
       "      <td>...</td>\n",
       "    </tr>\n",
       "    <tr>\n",
       "      <th>11670</th>\n",
       "      <td>4</td>\n",
       "      <td>1320.0</td>\n",
       "      <td>220</td>\n",
       "      <td>0</td>\n",
       "      <td>1</td>\n",
       "      <td>0</td>\n",
       "      <td>0</td>\n",
       "      <td>0</td>\n",
       "      <td>0</td>\n",
       "      <td>0</td>\n",
       "      <td>0</td>\n",
       "      <td>0</td>\n",
       "      <td>0</td>\n",
       "      <td>0</td>\n",
       "      <td>0</td>\n",
       "      <td>0</td>\n",
       "    </tr>\n",
       "    <tr>\n",
       "      <th>11690</th>\n",
       "      <td>8</td>\n",
       "      <td>2700.0</td>\n",
       "      <td>715</td>\n",
       "      <td>0</td>\n",
       "      <td>1</td>\n",
       "      <td>0</td>\n",
       "      <td>0</td>\n",
       "      <td>0</td>\n",
       "      <td>1</td>\n",
       "      <td>1</td>\n",
       "      <td>0</td>\n",
       "      <td>0</td>\n",
       "      <td>0</td>\n",
       "      <td>0</td>\n",
       "      <td>1</td>\n",
       "      <td>1</td>\n",
       "    </tr>\n",
       "    <tr>\n",
       "      <th>11691</th>\n",
       "      <td>8</td>\n",
       "      <td>2700.0</td>\n",
       "      <td>150</td>\n",
       "      <td>0</td>\n",
       "      <td>1</td>\n",
       "      <td>0</td>\n",
       "      <td>1</td>\n",
       "      <td>0</td>\n",
       "      <td>0</td>\n",
       "      <td>0</td>\n",
       "      <td>1</td>\n",
       "      <td>0</td>\n",
       "      <td>0</td>\n",
       "      <td>1</td>\n",
       "      <td>0</td>\n",
       "      <td>1</td>\n",
       "    </tr>\n",
       "    <tr>\n",
       "      <th>11718</th>\n",
       "      <td>6</td>\n",
       "      <td>400.0</td>\n",
       "      <td>240</td>\n",
       "      <td>1</td>\n",
       "      <td>1</td>\n",
       "      <td>0</td>\n",
       "      <td>0</td>\n",
       "      <td>0</td>\n",
       "      <td>0</td>\n",
       "      <td>0</td>\n",
       "      <td>0</td>\n",
       "      <td>0</td>\n",
       "      <td>1</td>\n",
       "      <td>0</td>\n",
       "      <td>0</td>\n",
       "      <td>0</td>\n",
       "    </tr>\n",
       "    <tr>\n",
       "      <th>11737</th>\n",
       "      <td>10</td>\n",
       "      <td>89.0</td>\n",
       "      <td>160</td>\n",
       "      <td>0</td>\n",
       "      <td>0</td>\n",
       "      <td>0</td>\n",
       "      <td>0</td>\n",
       "      <td>0</td>\n",
       "      <td>0</td>\n",
       "      <td>0</td>\n",
       "      <td>0</td>\n",
       "      <td>0</td>\n",
       "      <td>0</td>\n",
       "      <td>1</td>\n",
       "      <td>1</td>\n",
       "      <td>1</td>\n",
       "    </tr>\n",
       "  </tbody>\n",
       "</table>\n",
       "<p>1159 rows × 16 columns</p>\n",
       "</div>"
      ],
      "text/plain": [
       "       Rating  Ticket_pricing  Length_of_flight_mins  Aircraft_Boeing  \\\n",
       "9           8           100.0                    140                0   \n",
       "30          6          8850.0                    270                1   \n",
       "97         10           395.0                    400                1   \n",
       "98         10           195.0                     90                0   \n",
       "105         4            55.0                     60                0   \n",
       "...       ...             ...                    ...              ...   \n",
       "11670       4          1320.0                    220                0   \n",
       "11690       8          2700.0                    715                0   \n",
       "11691       8          2700.0                    150                0   \n",
       "11718       6           400.0                    240                1   \n",
       "11737      10            89.0                    160                0   \n",
       "\n",
       "       Aircraft_Airbus  Aircraft_Other  Meal_poultry  Meal_meat  Meal_fish  \\\n",
       "9                    1               0             0          0          0   \n",
       "30                   0               0             1          1          0   \n",
       "97                   0               0             0          0          0   \n",
       "98                   1               0             0          0          0   \n",
       "105                  0               0             0          0          0   \n",
       "...                ...             ...           ...        ...        ...   \n",
       "11670                1               0             0          0          0   \n",
       "11690                1               0             0          0          1   \n",
       "11691                1               0             1          0          0   \n",
       "11718                1               0             0          0          0   \n",
       "11737                0               0             0          0          0   \n",
       "\n",
       "       Meal_vegetarian  Meal_italian  Meal_asian  Meal_western  Meal_sweets  \\\n",
       "9                    1             0           0             0            1   \n",
       "30                   0             1           1             1            0   \n",
       "97                   1             0           0             1            0   \n",
       "98                   0             0           0             0            0   \n",
       "105                  0             0           0             0            0   \n",
       "...                ...           ...         ...           ...          ...   \n",
       "11670                0             0           0             0            0   \n",
       "11690                1             0           0             0            0   \n",
       "11691                0             1           0             0            1   \n",
       "11718                0             0           0             1            0   \n",
       "11737                0             0           0             0            1   \n",
       "\n",
       "       Meal_alcohol  Meal_dairy  \n",
       "9                 1           0  \n",
       "30                0           0  \n",
       "97                0           0  \n",
       "98                0           0  \n",
       "105               0           0  \n",
       "...             ...         ...  \n",
       "11670             0           0  \n",
       "11690             1           1  \n",
       "11691             0           1  \n",
       "11718             0           0  \n",
       "11737             1           1  \n",
       "\n",
       "[1159 rows x 16 columns]"
      ]
     },
     "execution_count": 25,
     "metadata": {},
     "output_type": "execute_result"
    }
   ],
   "source": [
    "#print the correlations between the variables and print\n",
    "df_data_str"
   ]
  },
  {
   "cell_type": "markdown",
   "metadata": {},
   "source": [
    "Below, the dataset is splitted into the features and the target variable. Then the test set of 20% is splitted."
   ]
  },
  {
   "cell_type": "code",
   "execution_count": 52,
   "metadata": {},
   "outputs": [],
   "source": [
    "X = df_data_str.drop('Rating', axis=1)\n",
    "y = df_data_str['Rating']\n",
    "\n",
    "from sklearn.model_selection import train_test_split\n",
    "# df is features and labels are the targets \n",
    "# Split by putting 20% in the testing set\n",
    "X_train, X_test, y_train, y_test = train_test_split(X,y, test_size= 0.20, random_state=42)"
   ]
  },
  {
   "cell_type": "markdown",
   "metadata": {},
   "source": [
    "## 3.1 Decision Tree Regressor<a class=\"anchor\" id=\"4.1\"></a>"
   ]
  },
  {
   "cell_type": "markdown",
   "metadata": {},
   "source": [
    "A Decision Tree Regressor is chosen as the first model to predict airline meal ratings with. This is because the dataset includes **non-linear and separable data**, the model is **simple to use and explain** and also important, it's **fast**.\n",
    "\n",
    "We start with importing and fitting the model to the data. Then the model predicts and these scores are printed in the dataframe below.\n"
   ]
  },
  {
   "cell_type": "code",
   "execution_count": 53,
   "metadata": {},
   "outputs": [
    {
     "data": {
      "text/plain": [
       "DecisionTreeRegressor(criterion='mse', max_depth=None, max_features=None,\n",
       "                      max_leaf_nodes=None, min_impurity_decrease=0.0,\n",
       "                      min_impurity_split=None, min_samples_leaf=1,\n",
       "                      min_samples_split=2, min_weight_fraction_leaf=0.0,\n",
       "                      presort=False, random_state=None, splitter='best')"
      ]
     },
     "execution_count": 53,
     "metadata": {},
     "output_type": "execute_result"
    }
   ],
   "source": [
    "from sklearn.tree import DecisionTreeRegressor\n",
    "regressor = DecisionTreeRegressor()\n",
    "regressor.fit(X_train, y_train)"
   ]
  },
  {
   "cell_type": "code",
   "execution_count": 54,
   "metadata": {},
   "outputs": [],
   "source": [
    "y_pred = regressor.predict(X_test)"
   ]
  },
  {
   "cell_type": "code",
   "execution_count": 55,
   "metadata": {},
   "outputs": [
    {
     "data": {
      "text/html": [
       "<div>\n",
       "<style scoped>\n",
       "    .dataframe tbody tr th:only-of-type {\n",
       "        vertical-align: middle;\n",
       "    }\n",
       "\n",
       "    .dataframe tbody tr th {\n",
       "        vertical-align: top;\n",
       "    }\n",
       "\n",
       "    .dataframe thead th {\n",
       "        text-align: right;\n",
       "    }\n",
       "</style>\n",
       "<table border=\"1\" class=\"dataframe\">\n",
       "  <thead>\n",
       "    <tr style=\"text-align: right;\">\n",
       "      <th></th>\n",
       "      <th>Actual</th>\n",
       "      <th>Predicted</th>\n",
       "    </tr>\n",
       "  </thead>\n",
       "  <tbody>\n",
       "    <tr>\n",
       "      <th>9276</th>\n",
       "      <td>6</td>\n",
       "      <td>1.0</td>\n",
       "    </tr>\n",
       "    <tr>\n",
       "      <th>5911</th>\n",
       "      <td>7</td>\n",
       "      <td>7.0</td>\n",
       "    </tr>\n",
       "    <tr>\n",
       "      <th>2424</th>\n",
       "      <td>10</td>\n",
       "      <td>3.0</td>\n",
       "    </tr>\n",
       "    <tr>\n",
       "      <th>4762</th>\n",
       "      <td>8</td>\n",
       "      <td>6.0</td>\n",
       "    </tr>\n",
       "    <tr>\n",
       "      <th>5235</th>\n",
       "      <td>9</td>\n",
       "      <td>10.0</td>\n",
       "    </tr>\n",
       "    <tr>\n",
       "      <th>6493</th>\n",
       "      <td>5</td>\n",
       "      <td>8.5</td>\n",
       "    </tr>\n",
       "    <tr>\n",
       "      <th>5610</th>\n",
       "      <td>6</td>\n",
       "      <td>3.0</td>\n",
       "    </tr>\n",
       "    <tr>\n",
       "      <th>2687</th>\n",
       "      <td>1</td>\n",
       "      <td>1.0</td>\n",
       "    </tr>\n",
       "    <tr>\n",
       "      <th>8473</th>\n",
       "      <td>0</td>\n",
       "      <td>8.0</td>\n",
       "    </tr>\n",
       "    <tr>\n",
       "      <th>11424</th>\n",
       "      <td>7</td>\n",
       "      <td>8.0</td>\n",
       "    </tr>\n",
       "    <tr>\n",
       "      <th>1669</th>\n",
       "      <td>7</td>\n",
       "      <td>9.0</td>\n",
       "    </tr>\n",
       "    <tr>\n",
       "      <th>5290</th>\n",
       "      <td>10</td>\n",
       "      <td>9.0</td>\n",
       "    </tr>\n",
       "    <tr>\n",
       "      <th>5162</th>\n",
       "      <td>9</td>\n",
       "      <td>10.0</td>\n",
       "    </tr>\n",
       "    <tr>\n",
       "      <th>11664</th>\n",
       "      <td>8</td>\n",
       "      <td>1.0</td>\n",
       "    </tr>\n",
       "    <tr>\n",
       "      <th>3835</th>\n",
       "      <td>9</td>\n",
       "      <td>6.0</td>\n",
       "    </tr>\n",
       "    <tr>\n",
       "      <th>4940</th>\n",
       "      <td>5</td>\n",
       "      <td>7.0</td>\n",
       "    </tr>\n",
       "    <tr>\n",
       "      <th>624</th>\n",
       "      <td>8</td>\n",
       "      <td>6.0</td>\n",
       "    </tr>\n",
       "    <tr>\n",
       "      <th>4723</th>\n",
       "      <td>6</td>\n",
       "      <td>3.0</td>\n",
       "    </tr>\n",
       "    <tr>\n",
       "      <th>6124</th>\n",
       "      <td>5</td>\n",
       "      <td>1.0</td>\n",
       "    </tr>\n",
       "    <tr>\n",
       "      <th>8539</th>\n",
       "      <td>7</td>\n",
       "      <td>8.0</td>\n",
       "    </tr>\n",
       "  </tbody>\n",
       "</table>\n",
       "</div>"
      ],
      "text/plain": [
       "       Actual  Predicted\n",
       "9276        6        1.0\n",
       "5911        7        7.0\n",
       "2424       10        3.0\n",
       "4762        8        6.0\n",
       "5235        9       10.0\n",
       "6493        5        8.5\n",
       "5610        6        3.0\n",
       "2687        1        1.0\n",
       "8473        0        8.0\n",
       "11424       7        8.0\n",
       "1669        7        9.0\n",
       "5290       10        9.0\n",
       "5162        9       10.0\n",
       "11664       8        1.0\n",
       "3835        9        6.0\n",
       "4940        5        7.0\n",
       "624         8        6.0\n",
       "4723        6        3.0\n",
       "6124        5        1.0\n",
       "8539        7        8.0"
      ]
     },
     "execution_count": 55,
     "metadata": {},
     "output_type": "execute_result"
    }
   ],
   "source": [
    "df=pd.DataFrame({'Actual':y_test, 'Predicted':y_pred})\n",
    "df.head(20)"
   ]
  },
  {
   "cell_type": "code",
   "execution_count": 30,
   "metadata": {},
   "outputs": [
    {
     "data": {
      "image/png": "[encoded data removed]",
      "text/plain": [
       "<Figure size 432x288 with 1 Axes>"
      ]
     },
     "metadata": {
      "needs_background": "light"
     },
     "output_type": "display_data"
    }
   ],
   "source": [
    "from sklearn import tree\n",
    "tree.plot_tree(regressor);"
   ]
  },
  {
   "cell_type": "code",
   "execution_count": 56,
   "metadata": {},
   "outputs": [
    {
     "name": "stdout",
     "output_type": "stream",
     "text": [
      "Mean Absolute Error: 3.11\n",
      "Mean Squared Error: 17.248333333333335\n",
      "Root Mean Squared Error: 4.1531112835238755\n"
     ]
    }
   ],
   "source": [
    "from sklearn import metrics\n",
    "import numpy as np\n",
    "print('Mean Absolute Error:', metrics.mean_absolute_error(y_test, y_pred))\n",
    "print('Mean Squared Error:', metrics.mean_squared_error(y_test, y_pred))\n",
    "print('Root Mean Squared Error:', np.sqrt(metrics.mean_squared_error(y_test, y_pred)))"
   ]
  },
  {
   "cell_type": "markdown",
   "metadata": {},
   "source": [
    "## 3.2 Other ML models<a class=\"anchor\" id=\"4.2\"></a>"
   ]
  },
  {
   "cell_type": "markdown",
   "metadata": {},
   "source": [
    "In this section the performance of several other ML models is assessed to derive their potential further analysis. First the needed libraries are imported, then a function is created to loop through these models efficiently. The results in terms of the evaluation of these models is summarized in two graphs."
   ]
  },
  {
   "cell_type": "code",
   "execution_count": 43,
   "metadata": {},
   "outputs": [],
   "source": [
    "# Standard ML Models for comparison\n",
    "from sklearn.linear_model import LinearRegression\n",
    "from sklearn.linear_model import ElasticNet\n",
    "from sklearn.ensemble import RandomForestRegressor\n",
    "from sklearn.ensemble import ExtraTreesRegressor\n",
    "from sklearn.ensemble import GradientBoostingRegressor\n",
    "from sklearn.svm import SVR\n",
    "\n",
    "# Splitting data into training/testing\n",
    "from sklearn.model_selection import train_test_split\n",
    "from sklearn.preprocessing import MinMaxScaler\n",
    "\n",
    "# Metrics\n",
    "from sklearn.metrics import mean_squared_error, mean_absolute_error, median_absolute_error\n",
    "\n",
    "# Distributions\n",
    "import scipy"
   ]
  },
  {
   "cell_type": "code",
   "execution_count": 44,
   "metadata": {},
   "outputs": [],
   "source": [
    "# Evaluate several ml models by training on training set and testing on testing set\n",
    "def evaluate(X_train, X_test, y_train, y_test):\n",
    "    # Names of models\n",
    "    model_name_list = ['Linear Regression', 'ElasticNet Regression',\n",
    "                      'Random Forest', 'Extra Trees', 'SVM',\n",
    "                       'Gradient Boosted', 'Baseline']\n",
    "    \n",
    "    # Instantiate the models\n",
    "    model1 = LinearRegression()\n",
    "    model2 = ElasticNet(alpha=1.0, l1_ratio=0.5)\n",
    "    model3 = RandomForestRegressor(n_estimators=50)\n",
    "    model4 = ExtraTreesRegressor(n_estimators=50)\n",
    "    model5 = SVR(kernel='rbf', degree=3, C=1.0, gamma='auto')\n",
    "    model6 = GradientBoostingRegressor(n_estimators=20)\n",
    "    \n",
    "    # Dataframe for results\n",
    "    results = pd.DataFrame(columns=['mae', 'rmse'], index = model_name_list)\n",
    "    \n",
    "    # Train and predict with each model\n",
    "    for i, model in enumerate([model1, model2, model3, model4, model5, model6]):\n",
    "        model.fit(X_train, y_train)\n",
    "        predictions = model.predict(X_test)\n",
    "        \n",
    "        # Metrics\n",
    "        mae = np.mean(abs(predictions - y_test))\n",
    "        rmse = np.sqrt(np.mean((predictions - y_test) ** 2))\n",
    "        \n",
    "        # Insert results into the dataframe\n",
    "        model_name = model_name_list[i]\n",
    "        results.loc[model_name, :] = [mae, rmse]\n",
    "    \n",
    "    # Median Value Baseline Metrics\n",
    "    baseline = np.median(y_train)\n",
    "    baseline_mae = np.mean(abs(baseline - y_test))\n",
    "    baseline_rmse = np.sqrt(np.mean((baseline - y_test) ** 2))\n",
    "    \n",
    "    results.loc['Baseline', :] = [baseline_mae, baseline_rmse]\n",
    "    \n",
    "    return results\n",
    "\n",
    "results = evaluate(X_train, X_test, y_train, y_test)\n",
    "#Credit function: https://github.com/WillKoehrsen/Data-Analysis/blob/master/bayesian_lr/Bayesian%20Linear%20Regression%20Project.ipynb"
   ]
  },
  {
   "cell_type": "code",
   "execution_count": 45,
   "metadata": {},
   "outputs": [
    {
     "data": {
      "text/plain": [
       "6.839357429718875"
      ]
     },
     "execution_count": 45,
     "metadata": {},
     "output_type": "execute_result"
    }
   ],
   "source": [
    "df_data_str['Rating'].mean()"
   ]
  },
  {
   "cell_type": "code",
   "execution_count": 46,
   "metadata": {},
   "outputs": [
    {
     "data": {
      "image/png": "[encoded data removed]",
      "text/plain": [
       "<Figure size 720x576 with 2 Axes>"
      ]
     },
     "metadata": {
      "needs_background": "light"
     },
     "output_type": "display_data"
    }
   ],
   "source": [
    "# Root mean squared error\n",
    "ax =  plt.subplot(1, 2, 1)\n",
    "results.sort_values('mae', ascending = True).plot.bar(y = 'mae', color = 'lightskyblue', ax = ax, figsize=(10,8))\n",
    "plt.ylabel('Model Mean Absolute Error');\n",
    "\n",
    "# Median absolute percentage error\n",
    "ax = plt.subplot(1, 2, 2)\n",
    "results.sort_values('rmse', ascending = True).plot.bar(y = 'rmse', color = 'lightgrey', ax = ax)\n",
    "plt.ylabel('Model Root Mean Squared Error');\n",
    "\n",
    "#Credit function: https://github.com/WillKoehrsen/Data-Analysis/blob/master/bayesian_lr/Bayesian%20Linear%20Regression%20Project.ipynb\n",
    "plt.tight_layout()"
   ]
  },
  {
   "cell_type": "markdown",
   "metadata": {},
   "source": [
    "The Extra Trees, Random Forst en SVM are potentially valuable models for this dataset. Their Mean Absolute Error below 1 could potentially be improved in further analysis."
   ]
  },
  {
   "cell_type": "markdown",
   "metadata": {},
   "source": [
    "# Conclusion<a class=\"anchor\" id=\"conclusion\"></a>"
   ]
  },
  {
   "cell_type": "markdown",
   "metadata": {},
   "source": [
    "In this notebook we have analysed reviews on airline meals, collected from airlinemeals.net. The data was retrieved and cleaned. The columns have been prepared for further analysis. Some important adjustments were made to the data, for example:\n",
    "\n",
    "- The duration of the flight was adjusted to duration in minutes\n",
    "- The aircraft type was transformed to dummy variables and distinguishes between Airbus and Boeing only\n",
    "- The reviewed meals were described in either the 'Meal' column or 'Description', both these columns were analyzed using NLTK libraries to create ngram and bigrams for the meals.\n",
    "- Subsequently, this analysis was used to create dummy variables for the contents of the meal that was reviewed. These included, e.g. poultry, meat or fish meals and italian, asian, vegetarian meals. Also whether the meal was served with an alcoholic beverage was taken into account.\n",
    "\n",
    "The analysis continued with a Decision Tree Regressor analysis. This model predicted the airline meal ratings with mediocre accuracy. The following bullet points list the evaluation scores:\n",
    "- Mean Absolute Error: 2.73972602739726\n",
    "- Mean Squared Error: 13.002283105022832\n",
    "- Root Mean Squared Error: 3.605867871265229\n",
    "\n",
    "Knowing that the mean rating given to the meals in this data set is: 7.13, the Mean Absolute Error of 0.7 is approximately 10% of the dataset's mean.\n",
    "\n",
    "Following the Decision Tree Regressor analysis, a list of several other standard machine learning models were reviewed to consider the performance of other models. From this it was concluded that Extra Trees and Random Forest should be considered in follow-up analysis.\n"
   ]
  },
  {
   "cell_type": "code",
   "execution_count": null,
   "metadata": {},
   "outputs": [],
   "source": []
  }
 ],
 "metadata": {
  "kernelspec": {
   "display_name": "Python 3",
   "language": "python",
   "name": "python3"
  },
  "language_info": {
   "codemirror_mode": {
    "name": "ipython",
    "version": 3
   },
   "file_extension": ".py",
   "mimetype": "text/x-python",
   "name": "python",
   "nbconvert_exporter": "python",
   "pygments_lexer": "ipython3",
   "version": "3.7.4"
  }
 },
 "nbformat": 4,
 "nbformat_minor": 2
}
